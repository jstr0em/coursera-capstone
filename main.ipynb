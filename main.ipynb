{
 "cells": [
  {
   "cell_type": "code",
   "execution_count": 17,
   "metadata": {},
   "outputs": [],
   "source": [
    "import numpy as np\n",
    "import pandas as pd\n",
    "import seaborn as sns\n",
    "import matplotlib.pyplot as plt"
   ]
  },
  {
   "source": [
    "# Hello Capstone Project Course!\n",
    "\n"
   ],
   "cell_type": "markdown",
   "metadata": {}
  },
  {
   "source": [
    "## Introduction / Business Problem\n",
    "\n",
    "### Model Purpose\n",
    "The purpose of this model is the predict the severity of a potential road accident (a binary measurement in this case). This is to attempt to avoid the possibility of being stuck in traffic induced by a severe accident (denoted as 2, whereas a less severe accident is denoted as 1). The severity of an accident will be predicted based on the road and light conditions at a given point in time. \n",
    "\n",
    "### Primary Audience / Stakeholders\n",
    "\n",
    "This type of model is useful for anyone seeking to plan a trip and wish to avoid being stuck in traffic due to accidents. Perhaps it is especially useful for those who value avoiding wasting their time in traffic, and have the ability to plan their travelling. E.g., delivery drivers may not benefit as much for this model as, for instance, people travelling for leisure/vacation, as the former are often on a schedule outside of their control and may therefore be forced to travel irrespective of what the model suggests. However, the model can be used to plan deliveries (and the like) more carefully, and reduction of leuisarly drivers during more accident prone times will still benefit those with less choice.\n",
    "\n",
    "### Potential Limitations of Model\n",
    "\n",
    "While the data used to create the model is based on traffic accident data in Seattle, it is likely that the model is generalizable to situations outside of Seattle as well. However, this predictive ability likely decreases as the predicted area becomes more different from Seattle. For instance, Seattle is located in the Pacific Northwest of the United States, and the model will likely perform best for areas that has similar driving laws/cultures and climate as Seattle does. Thus, this model is most useful to stakeholders travelling through areas of this type. \n"
   ],
   "cell_type": "markdown",
   "metadata": {}
  },
  {
   "source": [
    "## Data Understanding / Exploration"
   ],
   "cell_type": "markdown",
   "metadata": {}
  },
  {
   "cell_type": "code",
   "execution_count": 18,
   "metadata": {},
   "outputs": [
    {
     "output_type": "execute_result",
     "data": {
      "text/plain": "   SEVERITYCODE           X          Y  OBJECTID  INCKEY  COLDETKEY REPORTNO  \\\n0             2 -122.323148  47.703140         1    1307       1307  3502005   \n1             1 -122.347294  47.647172         2   52200      52200  2607959   \n2             1 -122.334540  47.607871         3   26700      26700  1482393   \n3             1 -122.334803  47.604803         4    1144       1144  3503937   \n4             2 -122.306426  47.545739         5   17700      17700  1807429   \n\n    STATUS      ADDRTYPE   INTKEY  ... ROADCOND                LIGHTCOND  \\\n0  Matched  Intersection  37475.0  ...      Wet                 Daylight   \n1  Matched         Block      NaN  ...      Wet  Dark - Street Lights On   \n2  Matched         Block      NaN  ...      Dry                 Daylight   \n3  Matched         Block      NaN  ...      Dry                 Daylight   \n4  Matched  Intersection  34387.0  ...      Wet                 Daylight   \n\n  PEDROWNOTGRNT  SDOTCOLNUM SPEEDING ST_COLCODE  \\\n0           NaN         NaN      NaN         10   \n1           NaN   6354039.0      NaN         11   \n2           NaN   4323031.0      NaN         32   \n3           NaN         NaN      NaN         23   \n4           NaN   4028032.0      NaN         10   \n\n                                          ST_COLDESC  SEGLANEKEY  \\\n0                                  Entering at angle           0   \n1  From same direction - both going straight - bo...           0   \n2                             One parked--one moving           0   \n3                   From same direction - all others           0   \n4                                  Entering at angle           0   \n\n   CROSSWALKKEY  HITPARKEDCAR  \n0             0             N  \n1             0             N  \n2             0             N  \n3             0             N  \n4             0             N  \n\n[5 rows x 38 columns]",
      "text/html": "<div>\n<style scoped>\n    .dataframe tbody tr th:only-of-type {\n        vertical-align: middle;\n    }\n\n    .dataframe tbody tr th {\n        vertical-align: top;\n    }\n\n    .dataframe thead th {\n        text-align: right;\n    }\n</style>\n<table border=\"1\" class=\"dataframe\">\n  <thead>\n    <tr style=\"text-align: right;\">\n      <th></th>\n      <th>SEVERITYCODE</th>\n      <th>X</th>\n      <th>Y</th>\n      <th>OBJECTID</th>\n      <th>INCKEY</th>\n      <th>COLDETKEY</th>\n      <th>REPORTNO</th>\n      <th>STATUS</th>\n      <th>ADDRTYPE</th>\n      <th>INTKEY</th>\n      <th>...</th>\n      <th>ROADCOND</th>\n      <th>LIGHTCOND</th>\n      <th>PEDROWNOTGRNT</th>\n      <th>SDOTCOLNUM</th>\n      <th>SPEEDING</th>\n      <th>ST_COLCODE</th>\n      <th>ST_COLDESC</th>\n      <th>SEGLANEKEY</th>\n      <th>CROSSWALKKEY</th>\n      <th>HITPARKEDCAR</th>\n    </tr>\n  </thead>\n  <tbody>\n    <tr>\n      <th>0</th>\n      <td>2</td>\n      <td>-122.323148</td>\n      <td>47.703140</td>\n      <td>1</td>\n      <td>1307</td>\n      <td>1307</td>\n      <td>3502005</td>\n      <td>Matched</td>\n      <td>Intersection</td>\n      <td>37475.0</td>\n      <td>...</td>\n      <td>Wet</td>\n      <td>Daylight</td>\n      <td>NaN</td>\n      <td>NaN</td>\n      <td>NaN</td>\n      <td>10</td>\n      <td>Entering at angle</td>\n      <td>0</td>\n      <td>0</td>\n      <td>N</td>\n    </tr>\n    <tr>\n      <th>1</th>\n      <td>1</td>\n      <td>-122.347294</td>\n      <td>47.647172</td>\n      <td>2</td>\n      <td>52200</td>\n      <td>52200</td>\n      <td>2607959</td>\n      <td>Matched</td>\n      <td>Block</td>\n      <td>NaN</td>\n      <td>...</td>\n      <td>Wet</td>\n      <td>Dark - Street Lights On</td>\n      <td>NaN</td>\n      <td>6354039.0</td>\n      <td>NaN</td>\n      <td>11</td>\n      <td>From same direction - both going straight - bo...</td>\n      <td>0</td>\n      <td>0</td>\n      <td>N</td>\n    </tr>\n    <tr>\n      <th>2</th>\n      <td>1</td>\n      <td>-122.334540</td>\n      <td>47.607871</td>\n      <td>3</td>\n      <td>26700</td>\n      <td>26700</td>\n      <td>1482393</td>\n      <td>Matched</td>\n      <td>Block</td>\n      <td>NaN</td>\n      <td>...</td>\n      <td>Dry</td>\n      <td>Daylight</td>\n      <td>NaN</td>\n      <td>4323031.0</td>\n      <td>NaN</td>\n      <td>32</td>\n      <td>One parked--one moving</td>\n      <td>0</td>\n      <td>0</td>\n      <td>N</td>\n    </tr>\n    <tr>\n      <th>3</th>\n      <td>1</td>\n      <td>-122.334803</td>\n      <td>47.604803</td>\n      <td>4</td>\n      <td>1144</td>\n      <td>1144</td>\n      <td>3503937</td>\n      <td>Matched</td>\n      <td>Block</td>\n      <td>NaN</td>\n      <td>...</td>\n      <td>Dry</td>\n      <td>Daylight</td>\n      <td>NaN</td>\n      <td>NaN</td>\n      <td>NaN</td>\n      <td>23</td>\n      <td>From same direction - all others</td>\n      <td>0</td>\n      <td>0</td>\n      <td>N</td>\n    </tr>\n    <tr>\n      <th>4</th>\n      <td>2</td>\n      <td>-122.306426</td>\n      <td>47.545739</td>\n      <td>5</td>\n      <td>17700</td>\n      <td>17700</td>\n      <td>1807429</td>\n      <td>Matched</td>\n      <td>Intersection</td>\n      <td>34387.0</td>\n      <td>...</td>\n      <td>Wet</td>\n      <td>Daylight</td>\n      <td>NaN</td>\n      <td>4028032.0</td>\n      <td>NaN</td>\n      <td>10</td>\n      <td>Entering at angle</td>\n      <td>0</td>\n      <td>0</td>\n      <td>N</td>\n    </tr>\n  </tbody>\n</table>\n<p>5 rows × 38 columns</p>\n</div>"
     },
     "metadata": {},
     "execution_count": 18
    }
   ],
   "source": [
    "# loads data\n",
    "data = pd.read_csv('Data-Collisions.csv')\n",
    "data.head()"
   ]
  },
  {
   "cell_type": "code",
   "execution_count": 19,
   "metadata": {},
   "outputs": [
    {
     "output_type": "execute_result",
     "data": {
      "text/plain": "5012"
     },
     "metadata": {},
     "execution_count": 19
    }
   ],
   "source": [
    "# counts number of empty values in ROADCOND\n",
    "data['ROADCOND'].isnull().sum()"
   ]
  },
  {
   "cell_type": "code",
   "execution_count": 20,
   "metadata": {},
   "outputs": [
    {
     "output_type": "execute_result",
     "data": {
      "text/plain": "1    136485\n2     58188\nName: SEVERITYCODE, dtype: int64"
     },
     "metadata": {},
     "execution_count": 20
    }
   ],
   "source": [
    "# counts the number of unique occurances in the severity code col (to determine if the label is balanced)\n",
    "data['SEVERITYCODE'].value_counts()"
   ]
  },
  {
   "cell_type": "code",
   "execution_count": 21,
   "metadata": {
    "tags": []
   },
   "outputs": [
    {
     "output_type": "stream",
     "name": "stdout",
     "text": "&lt;class &#39;pandas.core.frame.DataFrame&#39;&gt;\nRangeIndex: 194673 entries, 0 to 194672\nData columns (total 38 columns):\n #   Column          Non-Null Count   Dtype  \n---  ------          --------------   -----  \n 0   SEVERITYCODE    194673 non-null  int64  \n 1   X               189339 non-null  float64\n 2   Y               189339 non-null  float64\n 3   OBJECTID        194673 non-null  int64  \n 4   INCKEY          194673 non-null  int64  \n 5   COLDETKEY       194673 non-null  int64  \n 6   REPORTNO        194673 non-null  object \n 7   STATUS          194673 non-null  object \n 8   ADDRTYPE        192747 non-null  object \n 9   INTKEY          65070 non-null   float64\n 10  LOCATION        191996 non-null  object \n 11  EXCEPTRSNCODE   84811 non-null   object \n 12  EXCEPTRSNDESC   5638 non-null    object \n 13  SEVERITYCODE.1  194673 non-null  int64  \n 14  SEVERITYDESC    194673 non-null  object \n 15  COLLISIONTYPE   189769 non-null  object \n 16  PERSONCOUNT     194673 non-null  int64  \n 17  PEDCOUNT        194673 non-null  int64  \n 18  PEDCYLCOUNT     194673 non-null  int64  \n 19  VEHCOUNT        194673 non-null  int64  \n 20  INCDATE         194673 non-null  object \n 21  INCDTTM         194673 non-null  object \n 22  JUNCTIONTYPE    188344 non-null  object \n 23  SDOT_COLCODE    194673 non-null  int64  \n 24  SDOT_COLDESC    194673 non-null  object \n 25  INATTENTIONIND  29805 non-null   object \n 26  UNDERINFL       189789 non-null  object \n 27  WEATHER         189592 non-null  object \n 28  ROADCOND        189661 non-null  object \n 29  LIGHTCOND       189503 non-null  object \n 30  PEDROWNOTGRNT   4667 non-null    object \n 31  SDOTCOLNUM      114936 non-null  float64\n 32  SPEEDING        9333 non-null    object \n 33  ST_COLCODE      194655 non-null  object \n 34  ST_COLDESC      189769 non-null  object \n 35  SEGLANEKEY      194673 non-null  int64  \n 36  CROSSWALKKEY    194673 non-null  int64  \n 37  HITPARKEDCAR    194673 non-null  object \ndtypes: float64(4), int64(12), object(22)\nmemory usage: 56.4+ MB\n"
    }
   ],
   "source": [
    "# lists all the features in the dataset and some information about them\n",
    "data.info()"
   ]
  },
  {
   "source": [
    "## Excluding Features\n",
    "\n",
    "As we can see, there are a lot of different features to choose from. There are too many in fact and we need to investigate which of these are relevant for solving the outlined problem. This will be achieved partly by reading Metadata.pdf, which contains a detailed description of each feature, which will be useful for immediately excluding some features. Others will required further exploration to determine their relevance. "
   ],
   "cell_type": "markdown",
   "metadata": {}
  },
  {
   "source": [
    "### Irrelevant Features\n",
    "To start, we will exclude features that are obviously irrelevant, such as features containing various identification numbers. We also remove dates/timestamps as an accident is obviously not dependent on a particular day. \n",
    "\n",
    "We remove:\n",
    "* OBJECTID\n",
    "* INCKEY \n",
    "* COLDETKEY\n",
    "* REPORTNO\n",
    "* STATUS\n",
    "* INTKEY\n",
    "* EXCEPTRSNCODE\n",
    "* EXCEPTRSNDESC\n",
    "* SEVERITYCODE.1 (Duplicate)\n",
    "* SEVERITYDESC\n",
    "* INCDATE\n",
    "* INCDTTM\n",
    "* SDOTCOLNUM\n",
    "\n",
    "Additionally, there are features that detail how many vehicles/persons were part of a particular accident. Naturally, the more people/vehicles, the more severe an accident is likely to be. Using this data for predictive purposes is not practical, so this is likewise excluded\n",
    "\n",
    "We remove:\n",
    "* PEDCOUNT (number of pedestrians)\n",
    "* PEDCYLCOUNT (number of pedestrians and cyclists)\n",
    "* PERSONCOUNT (number of persons)\n",
    "* VEHCOUNT (number of vehicles)\n"
   ],
   "cell_type": "markdown",
   "metadata": {}
  },
  {
   "cell_type": "code",
   "execution_count": 22,
   "metadata": {},
   "outputs": [],
   "source": [
    "features_to_exclude = ['OBJECTID', 'INCKEY', 'COLDETKEY', 'REPORTNO', 'STATUS', 'INTKEY', 'EXCEPTRSNCODE', 'EXCEPTRSNDESC', 'SEVERITYCODE.1', 'SEVERITYDESC', 'INCDATE', 'INCDTTM', 'SDOTCOLNUM', 'PEDCOUNT', 'PEDCYLCOUNT', 'PERSONCOUNT', 'VEHCOUNT']"
   ]
  },
  {
   "source": [
    "### A Priori / Illegal Features\n",
    "\n",
    "We also exclude features which obviously increase the risk of a traffic incident (and which are illegal) such as driving under the influence, not paying attention, driving without adequate rest, or speeding. While these obviously are correlated with the risk and severity of traffic accidents, they present no additional information to a prudent driver seeking to avoid accidents.\n",
    "\n",
    "We remove:\n",
    "* SPEEDING (speeding driver)\n",
    "* UNDERINFL (drunk driver)\n",
    "* INATTENTIONIND (inattentive driver)\n",
    "* PEDROWNOTGRNT (not giving pedestrian right of way - illegal driving)"
   ],
   "cell_type": "markdown",
   "metadata": {}
  },
  {
   "cell_type": "code",
   "execution_count": 23,
   "metadata": {},
   "outputs": [],
   "source": [
    "features_to_exclude += ['SPEEDING', 'UNDERINFL', 'INATTENTIONIND', 'PEDROWNOTGRNT']"
   ]
  },
  {
   "source": [
    "### Too Detailed Features\n",
    "\n",
    "There are some features that contain a bit too much detailed information about the crashes, and cannot readily be used to avoid accidents, but may be useful for understanding them. However, the latter is more relevant to car manufacturers to design safer cars or to road engineer for designing safer roads; these insights are not relevant for this application. Furthermore, many of the features contain too detailed information about accidents and cannot readily be generalized.\n",
    "\n",
    "The following features corresponds to these types of information, and thus are excluded:\n",
    "* ST_COLCODE & ST_COLDESC (details of which direction a car was traveling in before an accident)\n",
    "* SDOT_COLCODE & SDOT_COLDESC (details of the specific accident)\n",
    "* SEGLANEKEY (details of which lane segment an accident occured; not practical to avoid lane changing)\n",
    "* CROSSWALKKEY (which crosswalk an accident occured in)\n",
    "* HITPARKEDCAR (if a parked car was hit)\n",
    "* COLLISIONTYPE (also contains information of what the driver was doing while the accident occured)\n",
    "* JUNCTIONTYPE (which junction types an accident occured in; not practical to avoid any of these)\n",
    "* ADDRTYPE (similar to JUNCTIONTYPE)\n",
    "\n",
    "One feature that contains significant information about traffic accidents that would be useful to use is the location of where an accident was recorded X & Y. However, it is beyond the scope of this model to use these, but would be neat to incorporate into a model where a detailed travel path is given as an input (e.g. like in Google Maps).\n",
    "\n",
    "We also exclude:\n",
    "* X & Y (contains specific coordinates; might relevant but too difficult to use in this model)\n",
    "* LOCATION (detailed description of the location)"
   ],
   "cell_type": "markdown",
   "metadata": {}
  },
  {
   "cell_type": "code",
   "execution_count": 24,
   "metadata": {},
   "outputs": [],
   "source": [
    "features_to_exclude += ['ST_COLCODE', 'ST_COLDESC', 'SDOT_COLCODE', 'SDOT_COLDESC', 'SEGLANEKEY', 'CROSSWALKKEY', 'HITPARKEDCAR', 'COLLISIONTYPE', 'JUNCTIONTYPE', 'ADDRTYPE', 'X', 'Y', 'LOCATION']"
   ]
  },
  {
   "source": [
    "### Surviving Features\n",
    "\n",
    "After removing all the discussed features we are left with only these three:\n",
    "* WEATHER\n",
    "* LIGHTCOND\n",
    "* ROADCOND\n",
    "\n",
    "These are great for predictive purposes as they are easy to use generate for a prediction; you just need to check the weather. They are also not particularly specific to any specific location in the Seattle area, or indeed the Seattle area itself, thus it can more readily be exted to other examples. \n",
    "\n",
    "Each of these features contain the following values:\n",
    "* ROADCOND: Dry, Ice, Oil, Other, Sand/Mud/Dirt, Snow/Slush, Standing Water, Unknown, Wet\n",
    "* LIGHTCOND: Dark - No Street Lights, Dark - Street Lights Off, Dark - Street Lights On, Dark - Unknown Lighting, Dawn, Daylight, Dusk, Other, Unknown\n",
    "* WEATHER: Blowing, Sand/Dirt, Clear, Fog/Smog/Smoke, Other, Overcast, Partly Cloudy, Raining, Severe Crosswind, Sleet/Hail/Freezing, Rain, Snowing, Unknown\n",
    "\n",
    "In particular weather is important to include here, as the combination of one poor weather phenomena together with otherwise good road conditions may still make for less safe driving - i.e. dry roads by with severe crosswinds.\n"
   ],
   "cell_type": "markdown",
   "metadata": {}
  },
  {
   "source": [
    "## Final Target & Feature Selection"
   ],
   "cell_type": "markdown",
   "metadata": {}
  },
  {
   "cell_type": "code",
   "execution_count": 27,
   "metadata": {
    "tags": []
   },
   "outputs": [],
   "source": [
    "# target feature \n",
    "target = 'SEVERITYCODE'\n",
    "\n",
    "# all the features in the dataset\n",
    "all_features = list(data)\n",
    "\n",
    "# creates list of features we've decided to keep (i.e. we remove the feature we want to exclude and the target variable from all the columns in the dataset)\n",
    "\n",
    "features = list(set(all_features).difference(features_to_exclude+[target]))\n",
    "\n",
    "# new dataframae only containing the target and feature variables\n",
    "df = data[[target]+features]"
   ]
  },
  {
   "cell_type": "code",
   "execution_count": 28,
   "metadata": {
    "tags": []
   },
   "outputs": [
    {
     "output_type": "execute_result",
     "data": {
      "text/plain": "ROADCOND        Dry  Ice  Oil  Other  Sand/Mud/Dirt  Snow/Slush  \\\nSEVERITYCODE                                                      \n1             84446  936   40     89             52         837   \n2             40064  273   24     43             23         167   \n\nROADCOND      Standing Water  Unknown    Wet  \nSEVERITYCODE                                  \n1                         85    14329  31719  \n2                         30      749  15755  ",
      "text/html": "<div>\n<style scoped>\n    .dataframe tbody tr th:only-of-type {\n        vertical-align: middle;\n    }\n\n    .dataframe tbody tr th {\n        vertical-align: top;\n    }\n\n    .dataframe thead th {\n        text-align: right;\n    }\n</style>\n<table border=\"1\" class=\"dataframe\">\n  <thead>\n    <tr style=\"text-align: right;\">\n      <th>ROADCOND</th>\n      <th>Dry</th>\n      <th>Ice</th>\n      <th>Oil</th>\n      <th>Other</th>\n      <th>Sand/Mud/Dirt</th>\n      <th>Snow/Slush</th>\n      <th>Standing Water</th>\n      <th>Unknown</th>\n      <th>Wet</th>\n    </tr>\n    <tr>\n      <th>SEVERITYCODE</th>\n      <th></th>\n      <th></th>\n      <th></th>\n      <th></th>\n      <th></th>\n      <th></th>\n      <th></th>\n      <th></th>\n      <th></th>\n    </tr>\n  </thead>\n  <tbody>\n    <tr>\n      <th>1</th>\n      <td>84446</td>\n      <td>936</td>\n      <td>40</td>\n      <td>89</td>\n      <td>52</td>\n      <td>837</td>\n      <td>85</td>\n      <td>14329</td>\n      <td>31719</td>\n    </tr>\n    <tr>\n      <th>2</th>\n      <td>40064</td>\n      <td>273</td>\n      <td>24</td>\n      <td>43</td>\n      <td>23</td>\n      <td>167</td>\n      <td>30</td>\n      <td>749</td>\n      <td>15755</td>\n    </tr>\n  </tbody>\n</table>\n</div>"
     },
     "metadata": {},
     "execution_count": 28
    }
   ],
   "source": [
    "df.groupby(target)[features[0]].value_counts().unstack()\n"
   ]
  },
  {
   "cell_type": "code",
   "execution_count": 100,
   "metadata": {
    "tags": []
   },
   "outputs": [
    {
     "output_type": "execute_result",
     "data": {
      "text/plain": "LIGHTCOND     Dark - No Street Lights  Dark - Street Lights Off  \\\nSEVERITYCODE                                                      \n1                                1203                       883   \n2                                 334                       316   \n\nLIGHTCOND     Dark - Street Lights On  Dark - Unknown Lighting  Dawn  \\\nSEVERITYCODE                                                           \n1                               34032                        7  1678   \n2                               14475                        4   824   \n\nLIGHTCOND     Daylight  Dusk  Other  Unknown  \nSEVERITYCODE                                  \n1                77593  3958    183    12868  \n2                38544  1944     52      605  ",
      "text/html": "<div>\n<style scoped>\n    .dataframe tbody tr th:only-of-type {\n        vertical-align: middle;\n    }\n\n    .dataframe tbody tr th {\n        vertical-align: top;\n    }\n\n    .dataframe thead th {\n        text-align: right;\n    }\n</style>\n<table border=\"1\" class=\"dataframe\">\n  <thead>\n    <tr style=\"text-align: right;\">\n      <th>LIGHTCOND</th>\n      <th>Dark - No Street Lights</th>\n      <th>Dark - Street Lights Off</th>\n      <th>Dark - Street Lights On</th>\n      <th>Dark - Unknown Lighting</th>\n      <th>Dawn</th>\n      <th>Daylight</th>\n      <th>Dusk</th>\n      <th>Other</th>\n      <th>Unknown</th>\n    </tr>\n    <tr>\n      <th>SEVERITYCODE</th>\n      <th></th>\n      <th></th>\n      <th></th>\n      <th></th>\n      <th></th>\n      <th></th>\n      <th></th>\n      <th></th>\n      <th></th>\n    </tr>\n  </thead>\n  <tbody>\n    <tr>\n      <th>1</th>\n      <td>1203</td>\n      <td>883</td>\n      <td>34032</td>\n      <td>7</td>\n      <td>1678</td>\n      <td>77593</td>\n      <td>3958</td>\n      <td>183</td>\n      <td>12868</td>\n    </tr>\n    <tr>\n      <th>2</th>\n      <td>334</td>\n      <td>316</td>\n      <td>14475</td>\n      <td>4</td>\n      <td>824</td>\n      <td>38544</td>\n      <td>1944</td>\n      <td>52</td>\n      <td>605</td>\n    </tr>\n  </tbody>\n</table>\n</div>"
     },
     "metadata": {},
     "execution_count": 100
    }
   ],
   "source": [
    "df.groupby(target)[features[1]].value_counts().unstack()"
   ]
  },
  {
   "cell_type": "code",
   "execution_count": 29,
   "metadata": {},
   "outputs": [
    {
     "output_type": "execute_result",
     "data": {
      "text/plain": "WEATHER       Blowing Sand/Dirt  Clear  Fog/Smog/Smoke  Other  Overcast  \\\nSEVERITYCODE                                                              \n1                            41  75295             382    716     18969   \n2                            15  35840             187    116      8745   \n\nWEATHER       Partly Cloudy  Raining  Severe Crosswind  \\\nSEVERITYCODE                                             \n1                         2    21969                18   \n2                         3    11176                 7   \n\nWEATHER       Sleet/Hail/Freezing Rain  Snowing  Unknown  \nSEVERITYCODE                                              \n1                                   85      736    14275  \n2                                   28      171      816  ",
      "text/html": "<div>\n<style scoped>\n    .dataframe tbody tr th:only-of-type {\n        vertical-align: middle;\n    }\n\n    .dataframe tbody tr th {\n        vertical-align: top;\n    }\n\n    .dataframe thead th {\n        text-align: right;\n    }\n</style>\n<table border=\"1\" class=\"dataframe\">\n  <thead>\n    <tr style=\"text-align: right;\">\n      <th>WEATHER</th>\n      <th>Blowing Sand/Dirt</th>\n      <th>Clear</th>\n      <th>Fog/Smog/Smoke</th>\n      <th>Other</th>\n      <th>Overcast</th>\n      <th>Partly Cloudy</th>\n      <th>Raining</th>\n      <th>Severe Crosswind</th>\n      <th>Sleet/Hail/Freezing Rain</th>\n      <th>Snowing</th>\n      <th>Unknown</th>\n    </tr>\n    <tr>\n      <th>SEVERITYCODE</th>\n      <th></th>\n      <th></th>\n      <th></th>\n      <th></th>\n      <th></th>\n      <th></th>\n      <th></th>\n      <th></th>\n      <th></th>\n      <th></th>\n      <th></th>\n    </tr>\n  </thead>\n  <tbody>\n    <tr>\n      <th>1</th>\n      <td>41</td>\n      <td>75295</td>\n      <td>382</td>\n      <td>716</td>\n      <td>18969</td>\n      <td>2</td>\n      <td>21969</td>\n      <td>18</td>\n      <td>85</td>\n      <td>736</td>\n      <td>14275</td>\n    </tr>\n    <tr>\n      <th>2</th>\n      <td>15</td>\n      <td>35840</td>\n      <td>187</td>\n      <td>116</td>\n      <td>8745</td>\n      <td>3</td>\n      <td>11176</td>\n      <td>7</td>\n      <td>28</td>\n      <td>171</td>\n      <td>816</td>\n    </tr>\n  </tbody>\n</table>\n</div>"
     },
     "metadata": {},
     "execution_count": 29
    }
   ],
   "source": [
    "df.groupby(target)[features[2]].value_counts().unstack()"
   ]
  },
  {
   "source": [
    "### Data Discussion\n",
    "\n",
    "The data encompasses traffic accident data recorded in the Seattle area. There are 37 different features and 1 target variable in the dateset. These features contain some irrelevant data (at least for prediction purposes) such as report numbers and object IDs, that simply will not be used. \n",
    " \n",
    "There is also detailed data of how each crash occurred, such as which lane segment, if the accident occurred in an intersection, on a block or something similar. These details are likewise not very interesting as travelling through intersections, changing lanes, and passing by city blocks is an intrinsic part of travel and cannot be avoided. Other irrelevant data is if the accident occurred while the driver was under the influence or he/she was speeding. It should go without saying that this should not be done while driving and is thus unnecessary data. \n",
    " \n",
    "Furthermore, there is a lot of data that is not independent from other variables. For instance, weather conditions contain less information than road and light conditions (ROADCOND and LIGHTCOND respectively) and such we don't need to consider weather. Likewise, the number of pedestrians or vehicles involved in a crash are assumed to be built into the severity of the accident. \n",
    " \n",
    "For these reasons, we will only use ROADCOND and LIGHTCOND for our model. These features are categorical, as is the target variables, and some supervised classification algorithm is ideal. "
   ],
   "cell_type": "markdown",
   "metadata": {}
  },
  {
   "source": [
    "## Preprocessing"
   ],
   "cell_type": "markdown",
   "metadata": {}
  },
  {
   "cell_type": "code",
   "execution_count": 101,
   "metadata": {},
   "outputs": [],
   "source": [
    "# one hot encoding of the chosen features\n",
    "X = pd.get_dummies(df[features])\n",
    "Y = df[target]"
   ]
  },
  {
   "cell_type": "code",
   "execution_count": 102,
   "metadata": {},
   "outputs": [],
   "source": [
    "# splitting the data into train/test sets\n",
    "from sklearn.model_selection import train_test_split\n",
    "X_train, X_test, Y_train, Y_test = train_test_split(X, Y, test_size=0.2)"
   ]
  },
  {
   "cell_type": "code",
   "execution_count": 103,
   "metadata": {
    "tags": []
   },
   "outputs": [],
   "source": [
    "# we use the ensemble random forest classifier for this problem\n",
    "from sklearn.ensemble import RandomForestClassifier\n",
    "\n",
    "# trains the forest models\n",
    "clf = RandomForestClassifier()\n",
    "clf.fit(X_train, Y_train)\n",
    "\n",
    "# predicts results\n",
    "Y_pred = clf.predict(X_test) "
   ]
  },
  {
   "cell_type": "code",
   "execution_count": 104,
   "metadata": {
    "tags": []
   },
   "outputs": [
    {
     "output_type": "stream",
     "name": "stdout",
     "text": "Confusion Matrix Tree : \n [[7.02529857e-01 7.70514961e-05]\n [2.97393091e-01 0.00000000e+00]] \n\nThe precision for Tree is  0.7025839926024864 \n\nThe recall for Tree is  0.9998903348442755 \n\nThe F1-score for Tree is  0.8252775766352884 \n\n"
    }
   ],
   "source": [
    "from sklearn.metrics import f1_score, confusion_matrix, precision_score, recall_score\n",
    "\n",
    "print('Confusion Matrix Tree : \\n', confusion_matrix(Y_test, Y_pred, normalize='all'),'\\n')\n",
    "print('The precision for Tree is ', precision_score(Y_test, Y_pred), '\\n') \n",
    "print('The recall for Tree is ', recall_score(Y_test, Y_pred),'\\n')  \n",
    "print('The F1-score for Tree is ', f1_score(Y_test, Y_pred),'\\n') "
   ]
  },
  {
   "cell_type": "code",
   "execution_count": null,
   "metadata": {},
   "outputs": [],
   "source": []
  }
 ],
 "metadata": {
  "kernelspec": {
   "display_name": "Python 3",
   "language": "python",
   "name": "python3"
  },
  "language_info": {
   "codemirror_mode": {
    "name": "ipython",
    "version": 3
   },
   "file_extension": ".py",
   "mimetype": "text/x-python",
   "name": "python",
   "nbconvert_exporter": "python",
   "pygments_lexer": "ipython3",
   "version": "3.8.2-final"
  }
 },
 "nbformat": 4,
 "nbformat_minor": 4
}